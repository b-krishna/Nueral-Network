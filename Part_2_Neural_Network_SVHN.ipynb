{
 "cells": [
  {
   "cell_type": "markdown",
   "metadata": {
    "id": "0FhGGv_AqwDG"
   },
   "source": [
    "# NN - Project - Part 2\n",
    "\n",
    "### PROJECT OBJECTIVE:\n",
    "* PROJECT OBJECTIVE: Build a digit classifier on the SVHN (Street View Housing Number) dataset"
   ]
  },
  {
   "cell_type": "code",
   "execution_count": 2,
   "metadata": {
    "colab": {
     "base_uri": "https://localhost:8080/"
    },
    "id": "gWntd4ki4gbR",
    "outputId": "3fcf16e4-1676-4869-b4d3-141700329f24"
   },
   "outputs": [
    {
     "name": "stdout",
     "output_type": "stream",
     "text": [
      "Drive already mounted at /content/drive; to attempt to forcibly remount, call drive.mount(\"/content/drive\", force_remount=True).\n"
     ]
    }
   ],
   "source": [
    "from google.colab import drive\n",
    "drive.mount('/content/drive')"
   ]
  },
  {
   "cell_type": "code",
   "execution_count": 72,
   "metadata": {
    "id": "CF7coZsO4sff"
   },
   "outputs": [],
   "source": [
    "import numpy as np\n",
    "import pandas as pd\n",
    "import matplotlib.pyplot as plt\n",
    "import tensorflow as tf\n",
    "\n",
    "from sklearn.preprocessing import LabelEncoder\n",
    "\n",
    "import h5py\n",
    "\n",
    "#tensorflow \n",
    "from tensorflow.keras.models import Sequential\n",
    "from tensorflow.keras.layers import Flatten,Dense,Input,Dropout,BatchNormalization\n",
    "from tensorflow.keras.losses import categorical_crossentropy\n",
    "from tensorflow.keras.initializers import GlorotNormal\n",
    "from tensorflow.keras.regularizers import l2\n"
   ]
  },
  {
   "cell_type": "code",
   "execution_count": 4,
   "metadata": {
    "colab": {
     "base_uri": "https://localhost:8080/"
    },
    "id": "TrABlsx54sk3",
    "outputId": "10aea3a5-ee22-4c1c-a40d-b627408fe440"
   },
   "outputs": [
    {
     "data": {
      "text/plain": [
       "<KeysViewHDF5 ['X_test', 'X_train', 'X_val', 'y_test', 'y_train', 'y_val']>"
      ]
     },
     "execution_count": 4,
     "metadata": {},
     "output_type": "execute_result"
    }
   ],
   "source": [
    "# Load the dataset from Drive\n",
    "\n",
    "data = h5py.File('/content/drive/MyDrive/GL/Part - 4 - Autonomous_Vehicles_SVHN_single_grey1.h5')\n",
    "data.keys()"
   ]
  },
  {
   "cell_type": "code",
   "execution_count": 5,
   "metadata": {
    "id": "r_rt3RiO7JmX"
   },
   "outputs": [],
   "source": [
    "x_train = data['X_train']\n",
    "x_val = data['X_val']\n",
    "x_test = data['X_test']\n",
    "\n",
    "y_train = data['y_train']\n",
    "y_val = data['y_val']\n",
    "y_test = data['y_test']"
   ]
  },
  {
   "cell_type": "code",
   "execution_count": 74,
   "metadata": {
    "id": "92tEOLDlpbr9"
   },
   "outputs": [],
   "source": [
    "y_test = LabelEncoder().fit_transform(y_test)"
   ]
  },
  {
   "cell_type": "code",
   "execution_count": 6,
   "metadata": {
    "colab": {
     "base_uri": "https://localhost:8080/"
    },
    "id": "95j3m9dzujph",
    "outputId": "8bea89ce-47ac-4f01-81da-5065ad3b4588"
   },
   "outputs": [
    {
     "data": {
      "text/plain": [
       "array([[ 33.0704,  30.2601,  26.852 , ...,  71.4471,  58.2204,  42.9939],\n",
       "       [ 25.2283,  25.5533,  29.9765, ..., 113.0209, 103.3639,  84.2949],\n",
       "       [ 26.2775,  22.6137,  40.4763, ..., 113.3028, 121.775 , 115.4228],\n",
       "       ...,\n",
       "       [ 28.5502,  36.212 ,  45.0801, ...,  24.1359,  25.0927,  26.0603],\n",
       "       [ 38.4352,  26.4733,  23.2717, ...,  28.1094,  29.4683,  30.0661],\n",
       "       [ 50.2984,  26.0773,  24.0389, ...,  49.6682,  50.853 ,  53.0377]],\n",
       "      dtype=float32)"
      ]
     },
     "execution_count": 6,
     "metadata": {},
     "output_type": "execute_result"
    }
   ],
   "source": [
    "x_train[0]"
   ]
  },
  {
   "cell_type": "code",
   "execution_count": 7,
   "metadata": {
    "colab": {
     "base_uri": "https://localhost:8080/"
    },
    "id": "ugYJx64Ri_oW",
    "outputId": "4d4db3cf-f018-4d52-ac60-afe6d0e20325"
   },
   "outputs": [
    {
     "data": {
      "text/plain": [
       "array([2, 6, 7, 4, 4, 0, 3, 0, 7, 3, 1, 0, 1, 3, 1, 1, 0, 0, 8, 4, 6, 5,\n",
       "       7, 9, 1, 0, 3, 0, 7, 2, 1, 1, 0, 2, 9, 0, 2, 5, 1, 3, 2, 7, 9, 8,\n",
       "       4, 9, 4, 5, 9, 3], dtype=uint8)"
      ]
     },
     "execution_count": 7,
     "metadata": {},
     "output_type": "execute_result"
    }
   ],
   "source": [
    "y_train[0:50]"
   ]
  },
  {
   "cell_type": "code",
   "execution_count": 8,
   "metadata": {
    "colab": {
     "base_uri": "https://localhost:8080/"
    },
    "id": "V_ENH6-t9KzG",
    "outputId": "0b983b0e-ef65-4b17-c8fc-bc904564324f"
   },
   "outputs": [
    {
     "name": "stdout",
     "output_type": "stream",
     "text": [
      "Shape of train images (42000, 32, 32)\n",
      "Shape of val images (60000, 32, 32)\n",
      "Shape of test images (18000, 32, 32)\n"
     ]
    }
   ],
   "source": [
    "# print the shape of train and test images\n",
    "\n",
    "print('Shape of train images',x_train.shape)\n",
    "print('Shape of val images',x_val.shape)\n",
    "print('Shape of test images',x_test.shape)"
   ]
  },
  {
   "cell_type": "code",
   "execution_count": 9,
   "metadata": {
    "colab": {
     "base_uri": "https://localhost:8080/"
    },
    "id": "4Bh_Gzdn9pd5",
    "outputId": "b0495447-d954-476a-86a5-bc56826c9a49"
   },
   "outputs": [
    {
     "name": "stdout",
     "output_type": "stream",
     "text": [
      "Shape of train labels (42000,)\n",
      "Shape of val labels (60000,)\n",
      "Shape of test labels (18000,)\n"
     ]
    }
   ],
   "source": [
    "\n",
    "# print the shape of labels\n",
    "\n",
    "print('Shape of train labels',y_train.shape)\n",
    "print('Shape of val labels',y_val.shape)\n",
    "print('Shape of test labels',y_test.shape)"
   ]
  },
  {
   "cell_type": "code",
   "execution_count": 10,
   "metadata": {
    "colab": {
     "base_uri": "https://localhost:8080/"
    },
    "id": "xZtaJ2PKh3bz",
    "outputId": "fa97ad3b-02b2-4c14-f4f2-0f07b64fe8c8"
   },
   "outputs": [
    {
     "data": {
      "text/plain": [
       "array([ 8322, 11546, 28942, 17946, 30692, 26349, 32988, 25186,  5364,\n",
       "       37510])"
      ]
     },
     "execution_count": 10,
     "metadata": {},
     "output_type": "execute_result"
    }
   ],
   "source": [
    "#selecting random samples\n",
    "index = np.random.choice(x_train.shape[0],10) #for genrating random index postions\n",
    "index"
   ]
  },
  {
   "cell_type": "code",
   "execution_count": 11,
   "metadata": {
    "colab": {
     "base_uri": "https://localhost:8080/",
     "height": 513
    },
    "id": "MZzCBQvQMPJh",
    "outputId": "41126dba-2095-4850-d493-a5d45fa3a70d"
   },
   "outputs": [
    {
     "data": {
      "image/png": "[encoded data removed]",
      "text/plain": [
       "<Figure size 720x504 with 10 Axes>"
      ]
     },
     "metadata": {
      "needs_background": "light"
     },
     "output_type": "display_data"
    }
   ],
   "source": [
    "#display images\n",
    "plt.figure(figsize=(10,7))\n",
    "for i, ind in enumerate(index):\n",
    "  plt.subplot(5,2,i+1)\n",
    "  plt.imshow(x_train[ind],cmap='gray')\n",
    "  plt.title(y_train[ind])\n",
    "  plt.axis('off')\n",
    "plt.tight_layout();"
   ]
  },
  {
   "cell_type": "code",
   "execution_count": 12,
   "metadata": {
    "id": "NFiP9OmcMahH"
   },
   "outputs": [],
   "source": [
    "#encoding labels\n",
    "\n",
    "from tensorflow.keras.utils import to_categorical\n",
    "\n",
    "y_train = to_categorical(y_train,num_classes=10)\n",
    "y_val = to_categorical(y_val,num_classes=10)\n",
    "# y_test = to_categorical(y_test,num_classes=10)"
   ]
  },
  {
   "cell_type": "code",
   "execution_count": 14,
   "metadata": {
    "colab": {
     "base_uri": "https://localhost:8080/"
    },
    "id": "JqUav0yBxf1g",
    "outputId": "99886e56-511d-466d-e8ba-a3fdb05ad5e0"
   },
   "outputs": [
    {
     "name": "stdout",
     "output_type": "stream",
     "text": [
      "The number of classes in this dataset are :  10\n"
     ]
    }
   ],
   "source": [
    "#number of classes\n",
    " \n",
    "num_classes =  y_train.shape[1]\n",
    "\n",
    "print('The number of classes in this dataset are : ', num_classes)"
   ]
  },
  {
   "cell_type": "code",
   "execution_count": 15,
   "metadata": {
    "id": "m432hi_t1cWX"
   },
   "outputs": [],
   "source": [
    "x_train = np.asarray(x_train).reshape(x_train.shape[0],1024)\n",
    "x_val = np.asarray(x_val).reshape(x_val.shape[0],1024)\n",
    "\n",
    "# normalize inputs from 0-255 to 0-1\n",
    "x_train = x_train / 255.0\n",
    "x_val = x_val / 255.0"
   ]
  },
  {
   "cell_type": "markdown",
   "metadata": {
    "id": "4I1NG5MlyCVU"
   },
   "source": [
    "### Model building"
   ]
  },
  {
   "cell_type": "markdown",
   "metadata": {
    "id": "ILdBAnkcxvuX"
   },
   "source": [
    "#### SGD optimizer"
   ]
  },
  {
   "cell_type": "code",
   "execution_count": 16,
   "metadata": {
    "id": "XbDmbeAhNCA5"
   },
   "outputs": [],
   "source": [
    "model_1 = Sequential([\n",
    "                      Flatten(input_shape=(1024,)),\n",
    "                      Dense(128,activation='relu',name='dense_1'),\n",
    "                      Dropout(0.2),\n",
    "                      BatchNormalization(),\n",
    "                      Dense(64,activation='relu',name='dense_2'),\n",
    "                      Dropout(0.2),\n",
    "                      BatchNormalization(),\n",
    "                      Dense(32,activation='relu',name='dense_3'),\n",
    "                      Dense(10,activation='softmax',name='dense_4')\n",
    "  ])\n",
    "model_1.compile(optimizer= tf.keras.optimizers.SGD(learning_rate=0.01),loss='categorical_crossentropy',metrics=['accuracy'])\n"
   ]
  },
  {
   "cell_type": "code",
   "execution_count": 17,
   "metadata": {
    "colab": {
     "base_uri": "https://localhost:8080/"
    },
    "id": "2J1kuVItBvJT",
    "outputId": "d2983fb1-9723-46a6-8a12-707d1eb9ea50"
   },
   "outputs": [
    {
     "data": {
      "text/plain": [
       "(1024,)"
      ]
     },
     "execution_count": 17,
     "metadata": {},
     "output_type": "execute_result"
    }
   ],
   "source": [
    "x_train[0].shape"
   ]
  },
  {
   "cell_type": "code",
   "execution_count": 18,
   "metadata": {
    "colab": {
     "base_uri": "https://localhost:8080/"
    },
    "id": "HjAICpKNbyLk",
    "outputId": "5b7de4ac-c33d-4e40-f432-d6d0f6a249e0"
   },
   "outputs": [
    {
     "name": "stdout",
     "output_type": "stream",
     "text": [
      "Model: \"sequential\"\n",
      "_________________________________________________________________\n",
      "Layer (type)                 Output Shape              Param #   \n",
      "=================================================================\n",
      "flatten (Flatten)            (None, 1024)              0         \n",
      "_________________________________________________________________\n",
      "dense_1 (Dense)              (None, 128)               131200    \n",
      "_________________________________________________________________\n",
      "dropout (Dropout)            (None, 128)               0         \n",
      "_________________________________________________________________\n",
      "batch_normalization (BatchNo (None, 128)               512       \n",
      "_________________________________________________________________\n",
      "dense_2 (Dense)              (None, 64)                8256      \n",
      "_________________________________________________________________\n",
      "dropout_1 (Dropout)          (None, 64)                0         \n",
      "_________________________________________________________________\n",
      "batch_normalization_1 (Batch (None, 64)                256       \n",
      "_________________________________________________________________\n",
      "dense_3 (Dense)              (None, 32)                2080      \n",
      "_________________________________________________________________\n",
      "dense_4 (Dense)              (None, 10)                330       \n",
      "=================================================================\n",
      "Total params: 142,634\n",
      "Trainable params: 142,250\n",
      "Non-trainable params: 384\n",
      "_________________________________________________________________\n"
     ]
    }
   ],
   "source": [
    "model_1.summary()"
   ]
  },
  {
   "cell_type": "code",
   "execution_count": 19,
   "metadata": {
    "colab": {
     "base_uri": "https://localhost:8080/"
    },
    "id": "QMHBx73FcsEB",
    "outputId": "c3c3d97e-0224-4124-c600-dc53d04a0941"
   },
   "outputs": [
    {
     "name": "stdout",
     "output_type": "stream",
     "text": [
      "Epoch 1/30\n",
      "1313/1313 [==============================] - 8s 5ms/step - loss: 2.3531 - accuracy: 0.1309 - val_loss: 2.1267 - val_accuracy: 0.2223\n",
      "Epoch 2/30\n",
      "1313/1313 [==============================] - 6s 5ms/step - loss: 2.1404 - accuracy: 0.1984 - val_loss: 1.9258 - val_accuracy: 0.2918\n",
      "Epoch 3/30\n",
      "1313/1313 [==============================] - 6s 5ms/step - loss: 2.1973 - accuracy: 0.1701 - val_loss: 2.3075 - val_accuracy: 0.1010\n",
      "Epoch 4/30\n",
      "1313/1313 [==============================] - 6s 5ms/step - loss: 2.2119 - accuracy: 0.1612 - val_loss: 1.9541 - val_accuracy: 0.3016\n",
      "Epoch 5/30\n",
      "1313/1313 [==============================] - 6s 5ms/step - loss: 2.0720 - accuracy: 0.2248 - val_loss: 1.9771 - val_accuracy: 0.2663\n",
      "Epoch 6/30\n",
      "1313/1313 [==============================] - 6s 4ms/step - loss: 2.0397 - accuracy: 0.2425 - val_loss: 1.8864 - val_accuracy: 0.3489\n",
      "Epoch 7/30\n",
      "1313/1313 [==============================] - 6s 5ms/step - loss: 1.9806 - accuracy: 0.2830 - val_loss: 1.7468 - val_accuracy: 0.4194\n",
      "Epoch 8/30\n",
      "1313/1313 [==============================] - 6s 5ms/step - loss: 1.9260 - accuracy: 0.3069 - val_loss: 1.9060 - val_accuracy: 0.2998\n",
      "Epoch 9/30\n",
      "1313/1313 [==============================] - 6s 5ms/step - loss: 1.8654 - accuracy: 0.3408 - val_loss: 1.7619 - val_accuracy: 0.3847\n",
      "Epoch 10/30\n",
      "1313/1313 [==============================] - 6s 4ms/step - loss: 1.8143 - accuracy: 0.3632 - val_loss: 1.6661 - val_accuracy: 0.4266\n",
      "Epoch 11/30\n",
      "1313/1313 [==============================] - 6s 5ms/step - loss: 1.7958 - accuracy: 0.3701 - val_loss: 1.5988 - val_accuracy: 0.4687\n",
      "Epoch 12/30\n",
      "1313/1313 [==============================] - 6s 5ms/step - loss: 1.7747 - accuracy: 0.3817 - val_loss: 1.5890 - val_accuracy: 0.4808\n",
      "Epoch 13/30\n",
      "1313/1313 [==============================] - 6s 5ms/step - loss: 1.7562 - accuracy: 0.3902 - val_loss: 1.5286 - val_accuracy: 0.4953\n",
      "Epoch 14/30\n",
      "1313/1313 [==============================] - 6s 5ms/step - loss: 1.7487 - accuracy: 0.3923 - val_loss: 1.7534 - val_accuracy: 0.4010\n",
      "Epoch 15/30\n",
      "1313/1313 [==============================] - 6s 5ms/step - loss: 1.7287 - accuracy: 0.4037 - val_loss: 1.6430 - val_accuracy: 0.4334\n",
      "Epoch 16/30\n",
      "1313/1313 [==============================] - 6s 5ms/step - loss: 1.7128 - accuracy: 0.4088 - val_loss: 1.6406 - val_accuracy: 0.4403\n",
      "Epoch 17/30\n",
      "1313/1313 [==============================] - 6s 5ms/step - loss: 1.7054 - accuracy: 0.4153 - val_loss: 1.5607 - val_accuracy: 0.4820\n",
      "Epoch 18/30\n",
      "1313/1313 [==============================] - 6s 5ms/step - loss: 1.6956 - accuracy: 0.4185 - val_loss: 1.5622 - val_accuracy: 0.4760\n",
      "Epoch 19/30\n",
      "1313/1313 [==============================] - 6s 5ms/step - loss: 1.6893 - accuracy: 0.4241 - val_loss: 1.5470 - val_accuracy: 0.4825\n",
      "Epoch 20/30\n",
      "1313/1313 [==============================] - 6s 5ms/step - loss: 1.6846 - accuracy: 0.4225 - val_loss: 1.4667 - val_accuracy: 0.5212\n",
      "Epoch 21/30\n",
      "1313/1313 [==============================] - 6s 5ms/step - loss: 1.6773 - accuracy: 0.4249 - val_loss: 1.5639 - val_accuracy: 0.4781\n",
      "Epoch 22/30\n",
      "1313/1313 [==============================] - 6s 5ms/step - loss: 1.6608 - accuracy: 0.4358 - val_loss: 1.6020 - val_accuracy: 0.4520\n",
      "Epoch 23/30\n",
      "1313/1313 [==============================] - 6s 5ms/step - loss: 1.6611 - accuracy: 0.4339 - val_loss: 1.6984 - val_accuracy: 0.4176\n",
      "Epoch 24/30\n",
      "1313/1313 [==============================] - 6s 5ms/step - loss: 1.7302 - accuracy: 0.4041 - val_loss: 1.5441 - val_accuracy: 0.5060\n",
      "Epoch 25/30\n",
      "1313/1313 [==============================] - 6s 5ms/step - loss: 1.7494 - accuracy: 0.3979 - val_loss: 1.6517 - val_accuracy: 0.4528\n",
      "Epoch 26/30\n",
      "1313/1313 [==============================] - 6s 5ms/step - loss: 1.7337 - accuracy: 0.4046 - val_loss: 1.7299 - val_accuracy: 0.3996\n",
      "Epoch 27/30\n",
      "1313/1313 [==============================] - 6s 5ms/step - loss: 1.7288 - accuracy: 0.4062 - val_loss: 1.6399 - val_accuracy: 0.4318\n",
      "Epoch 28/30\n",
      "1313/1313 [==============================] - 6s 5ms/step - loss: 1.7286 - accuracy: 0.4093 - val_loss: 1.6145 - val_accuracy: 0.4602\n",
      "Epoch 29/30\n",
      "1313/1313 [==============================] - 6s 5ms/step - loss: 1.7153 - accuracy: 0.4113 - val_loss: 1.4209 - val_accuracy: 0.5651\n",
      "Epoch 30/30\n",
      "1313/1313 [==============================] - 6s 5ms/step - loss: 1.7146 - accuracy: 0.4143 - val_loss: 1.4700 - val_accuracy: 0.5447\n"
     ]
    }
   ],
   "source": [
    "#train the model  \n",
    "history= model_1.fit(x_train,\n",
    "                   y_train,epochs=30,\n",
    "                   batch_size=32,validation_data=(x_val,y_val),\n",
    "                   verbose=1,\n",
    "                   )"
   ]
  },
  {
   "cell_type": "markdown",
   "metadata": {
    "id": "4Rc4rG1_8eAM"
   },
   "source": [
    "#### SGD optimizer with learning rate 1e-3"
   ]
  },
  {
   "cell_type": "code",
   "execution_count": 20,
   "metadata": {
    "colab": {
     "base_uri": "https://localhost:8080/"
    },
    "id": "n-RXZu8q8dDW",
    "outputId": "16a6736c-d234-4f42-8414-c57043671d54"
   },
   "outputs": [
    {
     "name": "stdout",
     "output_type": "stream",
     "text": [
      "Epoch 1/30\n",
      "1313/1313 [==============================] - 7s 5ms/step - loss: 1.6865 - accuracy: 0.4281 - val_loss: 1.4814 - val_accuracy: 0.5404\n",
      "Epoch 2/30\n",
      "1313/1313 [==============================] - 6s 5ms/step - loss: 1.6932 - accuracy: 0.4267 - val_loss: 1.4482 - val_accuracy: 0.5587\n",
      "Epoch 3/30\n",
      "1313/1313 [==============================] - 6s 5ms/step - loss: 1.6814 - accuracy: 0.4297 - val_loss: 1.4560 - val_accuracy: 0.5519\n",
      "Epoch 4/30\n",
      "1313/1313 [==============================] - 6s 5ms/step - loss: 1.6858 - accuracy: 0.4272 - val_loss: 1.4526 - val_accuracy: 0.5521\n",
      "Epoch 5/30\n",
      "1313/1313 [==============================] - 6s 5ms/step - loss: 1.6900 - accuracy: 0.4282 - val_loss: 1.4702 - val_accuracy: 0.5429\n",
      "Epoch 6/30\n",
      "1313/1313 [==============================] - 6s 5ms/step - loss: 1.6868 - accuracy: 0.4241 - val_loss: 1.4687 - val_accuracy: 0.5460\n",
      "Epoch 7/30\n",
      "1313/1313 [==============================] - 6s 5ms/step - loss: 1.6906 - accuracy: 0.4270 - val_loss: 1.4519 - val_accuracy: 0.5525\n",
      "Epoch 8/30\n",
      "1313/1313 [==============================] - 6s 5ms/step - loss: 1.6856 - accuracy: 0.4258 - val_loss: 1.4638 - val_accuracy: 0.5436\n",
      "Epoch 9/30\n",
      "1313/1313 [==============================] - 6s 5ms/step - loss: 1.6855 - accuracy: 0.4270 - val_loss: 1.4522 - val_accuracy: 0.5520\n",
      "Epoch 10/30\n",
      "1313/1313 [==============================] - 6s 5ms/step - loss: 1.6851 - accuracy: 0.4285 - val_loss: 1.4634 - val_accuracy: 0.5470\n",
      "Epoch 11/30\n",
      "1313/1313 [==============================] - 6s 5ms/step - loss: 1.6928 - accuracy: 0.4248 - val_loss: 1.4633 - val_accuracy: 0.5424\n",
      "Epoch 12/30\n",
      "1313/1313 [==============================] - 6s 5ms/step - loss: 1.6775 - accuracy: 0.4298 - val_loss: 1.4832 - val_accuracy: 0.5347\n",
      "Epoch 13/30\n",
      "1313/1313 [==============================] - 6s 5ms/step - loss: 1.6834 - accuracy: 0.4292 - val_loss: 1.4549 - val_accuracy: 0.5496\n",
      "Epoch 14/30\n",
      "1313/1313 [==============================] - 6s 5ms/step - loss: 1.6828 - accuracy: 0.4284 - val_loss: 1.4725 - val_accuracy: 0.5386\n",
      "Epoch 15/30\n",
      "1313/1313 [==============================] - 6s 5ms/step - loss: 1.6839 - accuracy: 0.4274 - val_loss: 1.4824 - val_accuracy: 0.5349\n",
      "Epoch 16/30\n",
      "1313/1313 [==============================] - 6s 5ms/step - loss: 1.6787 - accuracy: 0.4294 - val_loss: 1.4561 - val_accuracy: 0.5483\n",
      "Epoch 17/30\n",
      "1313/1313 [==============================] - 6s 5ms/step - loss: 1.6833 - accuracy: 0.4261 - val_loss: 1.4558 - val_accuracy: 0.5487\n",
      "Epoch 18/30\n",
      "1313/1313 [==============================] - 6s 5ms/step - loss: 1.6778 - accuracy: 0.4322 - val_loss: 1.4342 - val_accuracy: 0.5592\n",
      "Epoch 19/30\n",
      "1313/1313 [==============================] - 6s 5ms/step - loss: 1.6788 - accuracy: 0.4278 - val_loss: 1.4226 - val_accuracy: 0.5645\n",
      "Epoch 20/30\n",
      "1313/1313 [==============================] - 6s 5ms/step - loss: 1.6839 - accuracy: 0.4262 - val_loss: 1.4497 - val_accuracy: 0.5517\n",
      "Epoch 21/30\n",
      "1313/1313 [==============================] - 6s 5ms/step - loss: 1.6753 - accuracy: 0.4316 - val_loss: 1.4346 - val_accuracy: 0.5583\n",
      "Epoch 22/30\n",
      "1313/1313 [==============================] - 6s 5ms/step - loss: 1.6822 - accuracy: 0.4298 - val_loss: 1.4378 - val_accuracy: 0.5540\n",
      "Epoch 23/30\n",
      "1313/1313 [==============================] - 6s 5ms/step - loss: 1.6828 - accuracy: 0.4297 - val_loss: 1.4340 - val_accuracy: 0.5555\n",
      "Epoch 24/30\n",
      "1313/1313 [==============================] - 6s 5ms/step - loss: 1.6761 - accuracy: 0.4308 - val_loss: 1.4636 - val_accuracy: 0.5418\n",
      "Epoch 25/30\n",
      "1313/1313 [==============================] - 6s 5ms/step - loss: 1.6819 - accuracy: 0.4304 - val_loss: 1.5080 - val_accuracy: 0.5213\n",
      "Epoch 26/30\n",
      "1313/1313 [==============================] - 6s 5ms/step - loss: 1.6765 - accuracy: 0.4303 - val_loss: 1.4775 - val_accuracy: 0.5380\n",
      "Epoch 27/30\n",
      "1313/1313 [==============================] - 6s 5ms/step - loss: 1.6800 - accuracy: 0.4296 - val_loss: 1.4560 - val_accuracy: 0.5453\n",
      "Epoch 28/30\n",
      "1313/1313 [==============================] - 6s 5ms/step - loss: 1.6704 - accuracy: 0.4336 - val_loss: 1.4325 - val_accuracy: 0.5605\n",
      "Epoch 29/30\n",
      "1313/1313 [==============================] - 6s 5ms/step - loss: 1.6794 - accuracy: 0.4302 - val_loss: 1.4563 - val_accuracy: 0.5472\n",
      "Epoch 30/30\n",
      "1313/1313 [==============================] - 6s 5ms/step - loss: 1.6727 - accuracy: 0.4331 - val_loss: 1.4653 - val_accuracy: 0.5397\n"
     ]
    }
   ],
   "source": [
    "model_1.compile(optimizer= tf.keras.optimizers.SGD(0.001),loss='categorical_crossentropy',metrics=['accuracy'])\n",
    "\n",
    "#fit the model\n",
    "history_1= model_1.fit(x_train,\n",
    "                   y_train,epochs=30,\n",
    "                   batch_size=32,validation_data=(x_val,y_val),verbose=1,\n",
    "                   )"
   ]
  },
  {
   "cell_type": "code",
   "execution_count": 21,
   "metadata": {
    "id": "fNRWl9i_Zu0k"
   },
   "outputs": [],
   "source": [
    "#  Validation accuracy achieved 0.648 with SGD optimizer with learning rate of 1e-3"
   ]
  },
  {
   "cell_type": "markdown",
   "metadata": {
    "id": "RWPYGlNdERmp"
   },
   "source": [
    "#### Adam optimizer, increased number of units"
   ]
  },
  {
   "cell_type": "code",
   "execution_count": 85,
   "metadata": {
    "id": "uRSjEBHfEdx3"
   },
   "outputs": [],
   "source": [
    "model_2 = Sequential([\n",
    "                      Flatten(input_shape=(1024,)),\n",
    "                      Dense(256,activation='relu',name='dense_1'),\n",
    "                      Dense(128,activation='relu',name='dense_2'),\n",
    "                      Dense(64,activation='relu',name='dense_3'),\n",
    "                      Dense(32,activation='relu',name='dense_4'),\n",
    "                      Dense(10,activation='softmax',name='dense_5')\n",
    "  ])\n",
    "model_2.compile(optimizer= tf.keras.optimizers.Adam(learning_rate=1e-3),loss='categorical_crossentropy',metrics=['accuracy'])\n"
   ]
  },
  {
   "cell_type": "code",
   "execution_count": 86,
   "metadata": {
    "colab": {
     "base_uri": "https://localhost:8080/"
    },
    "id": "LcHgEYNOEIFh",
    "outputId": "42fef283-b611-4792-c81e-cb8906af2c89"
   },
   "outputs": [
    {
     "name": "stdout",
     "output_type": "stream",
     "text": [
      "Model: \"sequential_3\"\n",
      "_________________________________________________________________\n",
      "Layer (type)                 Output Shape              Param #   \n",
      "=================================================================\n",
      "flatten_3 (Flatten)          (None, 1024)              0         \n",
      "_________________________________________________________________\n",
      "dense_1 (Dense)              (None, 256)               262400    \n",
      "_________________________________________________________________\n",
      "dense_2 (Dense)              (None, 128)               32896     \n",
      "_________________________________________________________________\n",
      "dense_3 (Dense)              (None, 64)                8256      \n",
      "_________________________________________________________________\n",
      "dense_4 (Dense)              (None, 32)                2080      \n",
      "_________________________________________________________________\n",
      "dense_5 (Dense)              (None, 10)                330       \n",
      "=================================================================\n",
      "Total params: 305,962\n",
      "Trainable params: 305,962\n",
      "Non-trainable params: 0\n",
      "_________________________________________________________________\n"
     ]
    }
   ],
   "source": [
    "model_2.summary()"
   ]
  },
  {
   "cell_type": "code",
   "execution_count": 87,
   "metadata": {
    "colab": {
     "base_uri": "https://localhost:8080/"
    },
    "id": "OjDLbHCc8Vd-",
    "outputId": "8a463c7c-4cce-4dac-ca82-5881c4b14f87"
   },
   "outputs": [
    {
     "name": "stdout",
     "output_type": "stream",
     "text": [
      "Epoch 1/100\n",
      "165/165 [==============================] - 3s 18ms/step - loss: 2.2916 - accuracy: 0.1193 - val_loss: 2.2345 - val_accuracy: 0.1597\n",
      "Epoch 2/100\n",
      "165/165 [==============================] - 3s 17ms/step - loss: 2.1246 - accuracy: 0.2085 - val_loss: 2.0111 - val_accuracy: 0.2582\n",
      "Epoch 3/100\n",
      "165/165 [==============================] - 3s 17ms/step - loss: 1.8540 - accuracy: 0.3328 - val_loss: 1.8433 - val_accuracy: 0.3529\n",
      "Epoch 4/100\n",
      "165/165 [==============================] - 3s 17ms/step - loss: 1.5627 - accuracy: 0.4675 - val_loss: 1.5115 - val_accuracy: 0.4776\n",
      "Epoch 5/100\n",
      "165/165 [==============================] - 3s 17ms/step - loss: 1.3965 - accuracy: 0.5385 - val_loss: 1.4007 - val_accuracy: 0.5391\n",
      "Epoch 6/100\n",
      "165/165 [==============================] - 3s 17ms/step - loss: 1.2925 - accuracy: 0.5776 - val_loss: 1.2932 - val_accuracy: 0.5760\n",
      "Epoch 7/100\n",
      "165/165 [==============================] - 3s 17ms/step - loss: 1.2158 - accuracy: 0.6089 - val_loss: 1.2891 - val_accuracy: 0.5744\n",
      "Epoch 8/100\n",
      "165/165 [==============================] - 3s 17ms/step - loss: 1.1666 - accuracy: 0.6284 - val_loss: 1.1409 - val_accuracy: 0.6370\n",
      "Epoch 9/100\n",
      "165/165 [==============================] - 3s 17ms/step - loss: 1.1005 - accuracy: 0.6527 - val_loss: 1.0962 - val_accuracy: 0.6593\n",
      "Epoch 10/100\n",
      "165/165 [==============================] - 3s 17ms/step - loss: 1.0536 - accuracy: 0.6707 - val_loss: 1.0437 - val_accuracy: 0.6780\n",
      "Epoch 11/100\n",
      "165/165 [==============================] - 3s 18ms/step - loss: 1.0091 - accuracy: 0.6880 - val_loss: 1.0614 - val_accuracy: 0.6709\n",
      "Epoch 12/100\n",
      "165/165 [==============================] - 3s 17ms/step - loss: 0.9664 - accuracy: 0.7011 - val_loss: 0.9596 - val_accuracy: 0.7039\n",
      "Epoch 13/100\n",
      "165/165 [==============================] - 3s 17ms/step - loss: 0.9373 - accuracy: 0.7092 - val_loss: 1.0513 - val_accuracy: 0.6721\n",
      "Epoch 14/100\n",
      "165/165 [==============================] - 3s 17ms/step - loss: 0.8958 - accuracy: 0.7239 - val_loss: 0.9274 - val_accuracy: 0.7052\n",
      "Epoch 15/100\n",
      "165/165 [==============================] - 3s 17ms/step - loss: 0.8601 - accuracy: 0.7333 - val_loss: 0.9011 - val_accuracy: 0.7163\n",
      "Epoch 16/100\n",
      "165/165 [==============================] - 3s 17ms/step - loss: 0.8480 - accuracy: 0.7375 - val_loss: 0.8844 - val_accuracy: 0.7267\n",
      "Epoch 17/100\n",
      "165/165 [==============================] - 3s 17ms/step - loss: 0.8143 - accuracy: 0.7490 - val_loss: 0.8453 - val_accuracy: 0.7369\n",
      "Epoch 18/100\n",
      "165/165 [==============================] - 3s 17ms/step - loss: 0.7940 - accuracy: 0.7563 - val_loss: 0.8367 - val_accuracy: 0.7401\n",
      "Epoch 19/100\n",
      "165/165 [==============================] - 3s 17ms/step - loss: 0.7779 - accuracy: 0.7604 - val_loss: 0.8132 - val_accuracy: 0.7469\n",
      "Epoch 20/100\n",
      "165/165 [==============================] - 3s 17ms/step - loss: 0.7650 - accuracy: 0.7625 - val_loss: 0.9178 - val_accuracy: 0.7059\n",
      "Epoch 21/100\n",
      "165/165 [==============================] - 3s 17ms/step - loss: 0.7486 - accuracy: 0.7694 - val_loss: 0.7887 - val_accuracy: 0.7586\n",
      "Epoch 22/100\n",
      "165/165 [==============================] - 3s 17ms/step - loss: 0.7365 - accuracy: 0.7738 - val_loss: 0.7694 - val_accuracy: 0.7613\n",
      "Epoch 23/100\n",
      "165/165 [==============================] - 3s 17ms/step - loss: 0.7288 - accuracy: 0.7748 - val_loss: 0.7678 - val_accuracy: 0.7648\n",
      "Epoch 24/100\n",
      "165/165 [==============================] - 3s 18ms/step - loss: 0.7074 - accuracy: 0.7810 - val_loss: 0.7636 - val_accuracy: 0.7633\n",
      "Epoch 25/100\n",
      "165/165 [==============================] - 3s 17ms/step - loss: 0.6957 - accuracy: 0.7863 - val_loss: 0.9711 - val_accuracy: 0.6960\n",
      "Epoch 26/100\n",
      "165/165 [==============================] - 3s 17ms/step - loss: 0.7161 - accuracy: 0.7760 - val_loss: 0.7294 - val_accuracy: 0.7756\n",
      "Epoch 27/100\n",
      "165/165 [==============================] - 3s 17ms/step - loss: 0.6662 - accuracy: 0.7959 - val_loss: 0.7560 - val_accuracy: 0.7657\n",
      "Epoch 28/100\n",
      "165/165 [==============================] - 3s 17ms/step - loss: 0.6595 - accuracy: 0.7967 - val_loss: 0.6741 - val_accuracy: 0.7941\n",
      "Epoch 29/100\n",
      "165/165 [==============================] - 3s 17ms/step - loss: 0.6564 - accuracy: 0.7969 - val_loss: 0.7194 - val_accuracy: 0.7751\n",
      "Epoch 30/100\n",
      "165/165 [==============================] - 3s 17ms/step - loss: 0.6361 - accuracy: 0.8034 - val_loss: 0.7352 - val_accuracy: 0.7747\n",
      "Epoch 31/100\n",
      "165/165 [==============================] - 3s 17ms/step - loss: 0.6399 - accuracy: 0.8013 - val_loss: 0.6701 - val_accuracy: 0.7971\n",
      "Epoch 32/100\n",
      "165/165 [==============================] - 3s 17ms/step - loss: 0.6268 - accuracy: 0.8050 - val_loss: 0.6256 - val_accuracy: 0.8092\n",
      "Epoch 33/100\n",
      "165/165 [==============================] - 3s 17ms/step - loss: 0.6116 - accuracy: 0.8111 - val_loss: 0.6593 - val_accuracy: 0.7998\n",
      "Epoch 34/100\n",
      "165/165 [==============================] - 3s 17ms/step - loss: 0.6132 - accuracy: 0.8098 - val_loss: 0.6682 - val_accuracy: 0.7917\n",
      "Epoch 35/100\n",
      "165/165 [==============================] - 3s 17ms/step - loss: 0.6122 - accuracy: 0.8083 - val_loss: 0.6387 - val_accuracy: 0.8033\n",
      "Epoch 36/100\n",
      "165/165 [==============================] - 3s 17ms/step - loss: 0.5952 - accuracy: 0.8159 - val_loss: 0.6854 - val_accuracy: 0.7856\n",
      "Epoch 37/100\n",
      "165/165 [==============================] - 3s 17ms/step - loss: 0.5867 - accuracy: 0.8210 - val_loss: 0.5849 - val_accuracy: 0.8229\n",
      "Epoch 38/100\n",
      "165/165 [==============================] - 3s 17ms/step - loss: 0.5751 - accuracy: 0.8221 - val_loss: 0.6721 - val_accuracy: 0.7919\n",
      "Epoch 39/100\n",
      "165/165 [==============================] - 3s 17ms/step - loss: 0.5882 - accuracy: 0.8179 - val_loss: 0.6577 - val_accuracy: 0.7961\n",
      "Epoch 40/100\n",
      "165/165 [==============================] - 3s 17ms/step - loss: 0.5779 - accuracy: 0.8212 - val_loss: 0.6365 - val_accuracy: 0.8059\n",
      "Epoch 41/100\n",
      "165/165 [==============================] - 3s 17ms/step - loss: 0.5610 - accuracy: 0.8243 - val_loss: 0.5880 - val_accuracy: 0.8206\n",
      "Epoch 42/100\n",
      "165/165 [==============================] - 3s 17ms/step - loss: 0.5441 - accuracy: 0.8314 - val_loss: 0.6100 - val_accuracy: 0.8120\n",
      "Epoch 43/100\n",
      "165/165 [==============================] - 3s 17ms/step - loss: 0.5464 - accuracy: 0.8300 - val_loss: 0.5709 - val_accuracy: 0.8260\n",
      "Epoch 44/100\n",
      "165/165 [==============================] - 3s 17ms/step - loss: 0.5441 - accuracy: 0.8300 - val_loss: 0.5580 - val_accuracy: 0.8297\n",
      "Epoch 45/100\n",
      "165/165 [==============================] - 3s 17ms/step - loss: 0.5464 - accuracy: 0.8307 - val_loss: 0.6027 - val_accuracy: 0.8115\n",
      "Epoch 46/100\n",
      "165/165 [==============================] - 3s 17ms/step - loss: 0.5388 - accuracy: 0.8340 - val_loss: 0.6224 - val_accuracy: 0.8080\n",
      "Epoch 47/100\n",
      "165/165 [==============================] - 3s 17ms/step - loss: 0.5428 - accuracy: 0.8304 - val_loss: 0.5910 - val_accuracy: 0.8212\n",
      "Epoch 48/100\n",
      "165/165 [==============================] - 3s 17ms/step - loss: 0.5320 - accuracy: 0.8335 - val_loss: 0.5846 - val_accuracy: 0.8215\n",
      "Epoch 49/100\n",
      "165/165 [==============================] - 3s 17ms/step - loss: 0.5221 - accuracy: 0.8361 - val_loss: 0.5816 - val_accuracy: 0.8207\n",
      "Epoch 50/100\n",
      "165/165 [==============================] - 3s 17ms/step - loss: 0.5085 - accuracy: 0.8403 - val_loss: 0.5854 - val_accuracy: 0.8211\n",
      "Epoch 51/100\n",
      "165/165 [==============================] - 3s 17ms/step - loss: 0.5139 - accuracy: 0.8395 - val_loss: 0.5926 - val_accuracy: 0.8163\n",
      "Epoch 52/100\n",
      "165/165 [==============================] - 3s 18ms/step - loss: 0.5083 - accuracy: 0.8400 - val_loss: 0.5798 - val_accuracy: 0.8223\n",
      "Epoch 53/100\n",
      "165/165 [==============================] - 3s 17ms/step - loss: 0.5001 - accuracy: 0.8431 - val_loss: 0.5674 - val_accuracy: 0.8266\n",
      "Epoch 54/100\n",
      "165/165 [==============================] - 3s 17ms/step - loss: 0.4935 - accuracy: 0.8450 - val_loss: 0.5789 - val_accuracy: 0.8227\n",
      "Epoch 55/100\n",
      "165/165 [==============================] - 3s 17ms/step - loss: 0.4987 - accuracy: 0.8429 - val_loss: 0.5442 - val_accuracy: 0.8327\n",
      "Epoch 56/100\n",
      "165/165 [==============================] - 3s 18ms/step - loss: 0.4833 - accuracy: 0.8485 - val_loss: 0.5709 - val_accuracy: 0.8238\n",
      "Epoch 57/100\n",
      "165/165 [==============================] - 3s 18ms/step - loss: 0.4818 - accuracy: 0.8486 - val_loss: 0.5212 - val_accuracy: 0.8406\n",
      "Epoch 58/100\n",
      "165/165 [==============================] - 3s 18ms/step - loss: 0.4771 - accuracy: 0.8493 - val_loss: 0.5482 - val_accuracy: 0.8346\n",
      "Epoch 59/100\n",
      "165/165 [==============================] - 3s 18ms/step - loss: 0.4878 - accuracy: 0.8469 - val_loss: 0.5403 - val_accuracy: 0.8361\n",
      "Epoch 60/100\n",
      "165/165 [==============================] - 3s 17ms/step - loss: 0.4872 - accuracy: 0.8460 - val_loss: 0.5613 - val_accuracy: 0.8281\n",
      "Epoch 61/100\n",
      "165/165 [==============================] - 3s 17ms/step - loss: 0.4747 - accuracy: 0.8511 - val_loss: 0.5518 - val_accuracy: 0.8302\n",
      "Epoch 62/100\n",
      "165/165 [==============================] - 3s 17ms/step - loss: 0.4546 - accuracy: 0.8564 - val_loss: 0.6349 - val_accuracy: 0.8048\n",
      "Epoch 63/100\n",
      "165/165 [==============================] - 3s 18ms/step - loss: 0.4970 - accuracy: 0.8425 - val_loss: 0.5893 - val_accuracy: 0.8184\n",
      "Epoch 64/100\n",
      "165/165 [==============================] - 3s 17ms/step - loss: 0.4719 - accuracy: 0.8491 - val_loss: 0.5467 - val_accuracy: 0.8319\n",
      "Epoch 65/100\n",
      "165/165 [==============================] - 3s 17ms/step - loss: 0.4575 - accuracy: 0.8565 - val_loss: 0.4947 - val_accuracy: 0.8497\n",
      "Epoch 66/100\n",
      "165/165 [==============================] - 3s 17ms/step - loss: 0.4450 - accuracy: 0.8605 - val_loss: 0.6454 - val_accuracy: 0.8000\n",
      "Epoch 67/100\n",
      "165/165 [==============================] - 3s 17ms/step - loss: 0.4814 - accuracy: 0.8479 - val_loss: 0.4913 - val_accuracy: 0.8505\n",
      "Epoch 68/100\n",
      "165/165 [==============================] - 3s 17ms/step - loss: 0.4323 - accuracy: 0.8649 - val_loss: 0.5863 - val_accuracy: 0.8228\n",
      "Epoch 69/100\n",
      "165/165 [==============================] - 3s 17ms/step - loss: 0.4405 - accuracy: 0.8618 - val_loss: 0.4813 - val_accuracy: 0.8538\n",
      "Epoch 70/100\n",
      "165/165 [==============================] - 3s 17ms/step - loss: 0.4454 - accuracy: 0.8582 - val_loss: 0.5122 - val_accuracy: 0.8418\n",
      "Epoch 71/100\n",
      "165/165 [==============================] - 3s 17ms/step - loss: 0.4268 - accuracy: 0.8644 - val_loss: 0.5506 - val_accuracy: 0.8321\n",
      "Epoch 72/100\n",
      "165/165 [==============================] - 3s 17ms/step - loss: 0.4373 - accuracy: 0.8618 - val_loss: 0.5437 - val_accuracy: 0.8325\n",
      "Epoch 73/100\n",
      "165/165 [==============================] - 3s 17ms/step - loss: 0.4430 - accuracy: 0.8605 - val_loss: 0.4983 - val_accuracy: 0.8505\n",
      "Epoch 74/100\n",
      "165/165 [==============================] - 3s 17ms/step - loss: 0.4268 - accuracy: 0.8642 - val_loss: 0.5674 - val_accuracy: 0.8255\n",
      "Epoch 75/100\n",
      "165/165 [==============================] - 3s 17ms/step - loss: 0.4293 - accuracy: 0.8632 - val_loss: 0.4934 - val_accuracy: 0.8503\n",
      "Epoch 76/100\n",
      "165/165 [==============================] - 3s 17ms/step - loss: 0.4173 - accuracy: 0.8666 - val_loss: 0.4633 - val_accuracy: 0.8600\n",
      "Epoch 77/100\n",
      "165/165 [==============================] - 3s 17ms/step - loss: 0.4175 - accuracy: 0.8669 - val_loss: 0.4680 - val_accuracy: 0.8597\n",
      "Epoch 78/100\n",
      "165/165 [==============================] - 3s 17ms/step - loss: 0.4128 - accuracy: 0.8685 - val_loss: 0.4779 - val_accuracy: 0.8551\n",
      "Epoch 79/100\n",
      "165/165 [==============================] - 3s 17ms/step - loss: 0.4093 - accuracy: 0.8693 - val_loss: 0.4981 - val_accuracy: 0.8500\n",
      "Epoch 80/100\n",
      "165/165 [==============================] - 3s 17ms/step - loss: 0.4143 - accuracy: 0.8685 - val_loss: 0.5558 - val_accuracy: 0.8310\n",
      "Epoch 81/100\n",
      "165/165 [==============================] - 3s 18ms/step - loss: 0.4181 - accuracy: 0.8666 - val_loss: 0.5005 - val_accuracy: 0.8477\n",
      "Epoch 82/100\n",
      "165/165 [==============================] - 3s 17ms/step - loss: 0.4018 - accuracy: 0.8718 - val_loss: 0.4752 - val_accuracy: 0.8570\n",
      "Epoch 83/100\n",
      "165/165 [==============================] - 3s 18ms/step - loss: 0.3926 - accuracy: 0.8748 - val_loss: 0.5038 - val_accuracy: 0.8484\n",
      "Epoch 84/100\n",
      "165/165 [==============================] - 3s 18ms/step - loss: 0.4061 - accuracy: 0.8702 - val_loss: 0.4795 - val_accuracy: 0.8536\n",
      "Epoch 85/100\n",
      "165/165 [==============================] - 3s 17ms/step - loss: 0.3937 - accuracy: 0.8739 - val_loss: 0.5365 - val_accuracy: 0.8396\n",
      "Epoch 86/100\n",
      "165/165 [==============================] - 3s 17ms/step - loss: 0.4120 - accuracy: 0.8680 - val_loss: 0.5425 - val_accuracy: 0.8368\n",
      "Epoch 87/100\n",
      "165/165 [==============================] - 3s 18ms/step - loss: 0.3991 - accuracy: 0.8725 - val_loss: 0.5094 - val_accuracy: 0.8468\n",
      "Epoch 88/100\n",
      "165/165 [==============================] - 3s 17ms/step - loss: 0.3876 - accuracy: 0.8757 - val_loss: 0.5150 - val_accuracy: 0.8442\n",
      "Epoch 89/100\n",
      "165/165 [==============================] - 3s 18ms/step - loss: 0.3936 - accuracy: 0.8748 - val_loss: 0.5309 - val_accuracy: 0.8361\n",
      "Epoch 90/100\n",
      "165/165 [==============================] - 3s 17ms/step - loss: 0.4028 - accuracy: 0.8715 - val_loss: 0.5103 - val_accuracy: 0.8487\n",
      "Epoch 91/100\n",
      "165/165 [==============================] - 3s 17ms/step - loss: 0.3771 - accuracy: 0.8788 - val_loss: 0.5292 - val_accuracy: 0.8425\n",
      "Epoch 92/100\n",
      "165/165 [==============================] - 3s 18ms/step - loss: 0.4026 - accuracy: 0.8719 - val_loss: 0.4752 - val_accuracy: 0.8579\n",
      "Epoch 93/100\n",
      "165/165 [==============================] - 3s 17ms/step - loss: 0.3819 - accuracy: 0.8777 - val_loss: 0.5344 - val_accuracy: 0.8371\n",
      "Epoch 94/100\n",
      "165/165 [==============================] - 3s 18ms/step - loss: 0.3835 - accuracy: 0.8768 - val_loss: 0.4960 - val_accuracy: 0.8509\n",
      "Epoch 95/100\n",
      "165/165 [==============================] - 3s 17ms/step - loss: 0.3788 - accuracy: 0.8788 - val_loss: 0.4730 - val_accuracy: 0.8582\n",
      "Epoch 96/100\n",
      "165/165 [==============================] - 3s 17ms/step - loss: 0.3700 - accuracy: 0.8819 - val_loss: 0.5778 - val_accuracy: 0.8282\n",
      "Epoch 97/100\n",
      "165/165 [==============================] - 3s 17ms/step - loss: 0.3737 - accuracy: 0.8804 - val_loss: 0.4835 - val_accuracy: 0.8534\n",
      "Epoch 98/100\n",
      "165/165 [==============================] - 3s 17ms/step - loss: 0.3770 - accuracy: 0.8786 - val_loss: 0.4818 - val_accuracy: 0.8548\n",
      "Epoch 99/100\n",
      "165/165 [==============================] - 3s 17ms/step - loss: 0.3639 - accuracy: 0.8849 - val_loss: 0.4873 - val_accuracy: 0.8533\n",
      "Epoch 100/100\n",
      "165/165 [==============================] - 3s 17ms/step - loss: 0.3703 - accuracy: 0.8815 - val_loss: 0.4603 - val_accuracy: 0.8598\n"
     ]
    }
   ],
   "source": [
    "#fit the model\n",
    "history= model_2.fit(x_train,\n",
    "                   y_train,epochs=100,\n",
    "                   batch_size=256,validation_data=(x_val,y_val),verbose=1,\n",
    "                   )"
   ]
  },
  {
   "cell_type": "markdown",
   "metadata": {
    "id": "HJzAcT1WDT8b"
   },
   "source": [
    "### Plotting Accuracy vs Val Accuracy"
   ]
  },
  {
   "cell_type": "code",
   "execution_count": 88,
   "metadata": {
    "colab": {
     "base_uri": "https://localhost:8080/",
     "height": 296
    },
    "id": "kbsnjTbKc3AE",
    "outputId": "77ed7411-7d9e-4191-a8d5-31b52529cecf"
   },
   "outputs": [
    {
     "data": {
      "image/png": "[encoded data removed]",
      "text/plain": [
       "<Figure size 432x288 with 1 Axes>"
      ]
     },
     "metadata": {
      "needs_background": "light"
     },
     "output_type": "display_data"
    }
   ],
   "source": [
    "# plot accuracy vs Validation accuracy\n",
    "\n",
    "# plt.subplot(1,2,1)\n",
    "plt.plot(history.history['accuracy'],label= \"Training accuary\")\n",
    "plt.plot(history.history['val_accuracy'],label= \"Validation accuracy\")\n",
    "plt.legend()\n",
    "plt.title('acc vs val_accuracy')\n",
    "plt.xlabel('Epochs')\n",
    "plt.ylabel('accuracy')\n",
    "plt.tight_layout()"
   ]
  },
  {
   "cell_type": "code",
   "execution_count": 89,
   "metadata": {
    "colab": {
     "base_uri": "https://localhost:8080/",
     "height": 312
    },
    "id": "_IyJ-IlpDGOD",
    "outputId": "8e81b5f3-b4d9-44c0-9e06-f9cae2284e3a"
   },
   "outputs": [
    {
     "data": {
      "text/plain": [
       "Text(0, 0.5, 'Loss')"
      ]
     },
     "execution_count": 89,
     "metadata": {},
     "output_type": "execute_result"
    },
    {
     "data": {
      "image/png": "[encoded data removed]",
      "text/plain": [
       "<Figure size 432x288 with 1 Axes>"
      ]
     },
     "metadata": {
      "needs_background": "light"
     },
     "output_type": "display_data"
    }
   ],
   "source": [
    "# plot loss vs Validation loss\n",
    "  \n",
    "plt.plot(history.history['loss'])\n",
    "plt.plot(history.history['val_loss'])\n",
    "plt.legend(['loss','val_loss'])\n",
    "plt.title('Loss vs val_loss')\n",
    "plt.xlabel('Epochs')\n",
    "\n",
    "plt.ylabel('Loss')"
   ]
  },
  {
   "cell_type": "markdown",
   "metadata": {
    "id": "NbwsAN0AE6x6"
   },
   "source": [
    "### model evaluation on test data"
   ]
  },
  {
   "cell_type": "code",
   "execution_count": 92,
   "metadata": {
    "colab": {
     "base_uri": "https://localhost:8080/"
    },
    "id": "vlUKGLAVD3HH",
    "outputId": "26c19b81-32eb-4263-a71a-771173933d08"
   },
   "outputs": [
    {
     "name": "stdout",
     "output_type": "stream",
     "text": [
      "test_loss= 107.06404113769531 test_accuracy = 0.7889999747276306\n"
     ]
    }
   ],
   "source": [
    "test_loss,test_accuracy = model_2.evaluate(x_test, tf.keras.utils.to_categorical(y_test),verbose=0)\n",
    "\n",
    "print('test_loss=',test_loss,'test_accuracy =',test_accuracy)"
   ]
  },
  {
   "cell_type": "markdown",
   "metadata": {
    "id": "wu2Gu93Dr7X9"
   },
   "source": [
    "## Observation\n",
    "\n",
    "* Validation accuracy achieved on test dataset is 78.89%, using Adam optimzer, with learning rate 1e-3, model trained for 100 epochs\n",
    "*  Tried various options like increasing number of hidden layers, hidden units, increased number of epochs also decreasing learning rate and dropout and bactch normalization\n",
    "* We can try applying CNN and improve the accuracy further\n"
   ]
  },
  {
   "cell_type": "markdown",
   "metadata": {
    "id": "aPmOXSvpzkO8"
   },
   "source": [
    "---------"
   ]
  },
  {
   "cell_type": "code",
   "execution_count": 76,
   "metadata": {
    "id": "eW_01qfREF2Z"
   },
   "outputs": [],
   "source": [
    "# ### model predictions\n",
    "\n",
    "# def plot_pred(images,labels,predictions):\n",
    "#   fig, axes = plt.subplots(5,2,figsize=(15,8))\n",
    "#   for i in range(5):\n",
    "#     axes[i,0].imshow(images[i])\n",
    "#     axes[i,0].set_title(f'Label = {labels[i]}')\n",
    "#     axes[i,0].set_axis_off()\n",
    "    \n",
    "#     axes[i,1].bar(range(10),predictions[i])\n",
    "#     axes[i,1].set_title(f'Predicted label = {np.argmax(predictions[i])}')\n",
    "#     axes.set_xticks()\n",
    "#   plt.tight_layout()"
   ]
  },
  {
   "cell_type": "code",
   "execution_count": 77,
   "metadata": {
    "id": "Y4W3WeVEFGko"
   },
   "outputs": [],
   "source": [
    "# #display_random images with predictions\n",
    "# np.random.seed(42)\n",
    "# random_index = np.random.choice(len(x_test),5)"
   ]
  },
  {
   "cell_type": "code",
   "execution_count": 81,
   "metadata": {
    "id": "vyIg6YGDxS1S"
   },
   "outputs": [],
   "source": [
    "# #plot prediction on 5 ransom samples\n",
    "\n",
    "# x_test = np.asarray(x_test)\n",
    "\n",
    "# random_test_images = x_test[random_index]\n",
    "\n",
    "# random_test_labels = y_test[random_index]\n",
    "# predictions = model_1.predict(random_test_images)\n",
    "\n",
    "# # plot_pred(random_test_images,random_test_labels,predictions)\n",
    "\n",
    "# plot_pred(x_test,random_test_labels,model_1) "
   ]
  },
  {
   "cell_type": "code",
   "execution_count": 80,
   "metadata": {
    "id": "QGdkECEqncTb"
   },
   "outputs": [],
   "source": []
  },
  {
   "cell_type": "code",
   "execution_count": null,
   "metadata": {
    "id": "vXqAsBIRq9pk"
   },
   "outputs": [],
   "source": []
  }
 ],
 "metadata": {
  "colab": {
   "collapsed_sections": [],
   "name": "Part 2- Neural Network_SVHN.ipynb",
   "provenance": []
  },
  "kernelspec": {
   "display_name": "Python 3",
   "language": "python",
   "name": "python3"
  },
  "language_info": {
   "codemirror_mode": {
    "name": "ipython",
    "version": 3
   },
   "file_extension": ".py",
   "mimetype": "text/x-python",
   "name": "python",
   "nbconvert_exporter": "python",
   "pygments_lexer": "ipython3",
   "version": "3.8.5"
  }
 },
 "nbformat": 4,
 "nbformat_minor": 1
}
